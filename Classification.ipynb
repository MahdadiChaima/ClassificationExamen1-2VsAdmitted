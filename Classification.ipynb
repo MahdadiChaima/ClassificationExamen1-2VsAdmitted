{
 "cells": [
  {
   "cell_type": "code",
   "execution_count": 104,
   "id": "68543e7a",
   "metadata": {},
   "outputs": [
    {
     "name": "stdout",
     "output_type": "stream",
     "text": [
      "            Exam1       Exam2    Admitted\n",
      "count  100.000000  100.000000  100.000000\n",
      "mean    65.644274   66.221998    0.600000\n",
      "std     19.458222   18.582783    0.492366\n",
      "min     30.058822   30.603263    0.000000\n",
      "25%     50.919511   48.179205    0.000000\n",
      "50%     67.032988   67.682381    1.000000\n",
      "75%     80.212529   79.360605    1.000000\n",
      "max     99.827858   98.869436    1.000000\n"
     ]
    }
   ],
   "source": [
    "import numpy as np\n",
    "import pandas as pd \n",
    "import matplotlib.pyplot as plt\n",
    "import scipy.optimize as opt\n",
    "path=\"C:\\\\machine learning\\\\data\\\\ClassificationExamen1&2VsAdmitted.txt\"\n",
    "data=pd.read_csv(path,header=None,names=[\"Exam1\",\"Exam2\",\"Admitted\"])\n",
    "\n",
    "print(data.describe())"
   ]
  },
  {
   "cell_type": "code",
   "execution_count": 105,
   "id": "20d9d46b",
   "metadata": {},
   "outputs": [
    {
     "name": "stdout",
     "output_type": "stream",
     "text": [
      "        Exam1      Exam2  Admitted\n",
      "3   60.182599  86.308552         1\n",
      "4   79.032736  75.344376         1\n",
      "6   61.106665  96.511426         1\n",
      "7   75.024746  46.554014         1\n",
      "8   76.098787  87.420570         1\n",
      "9   84.432820  43.533393         1\n",
      "12  82.307053  76.481963         1\n",
      "13  69.364589  97.718692         1\n",
      "15  53.971052  89.207350         1\n",
      "16  69.070144  52.740470         1\n"
     ]
    }
   ],
   "source": [
    "#Separate acceptd and not accepted \n",
    "positive=data[data[\"Admitted\"].isin([1])]\n",
    "negative=data[data[\"Admitted\"].isin([0])]\n",
    "print(positive.head(10))"
   ]
  },
  {
   "cell_type": "code",
   "execution_count": 106,
   "id": "e15bdf5b",
   "metadata": {},
   "outputs": [
    {
     "data": {
      "text/plain": [
       "Text(0.5, 1.0, 'calssifiation')"
      ]
     },
     "execution_count": 106,
     "metadata": {},
     "output_type": "execute_result"
    },
    {
     "data": {
      "image/png": "[encoded data removed]",
      "text/plain": [
       "<Figure size 432x288 with 1 Axes>"
      ]
     },
     "metadata": {
      "needs_background": "light"
     },
     "output_type": "display_data"
    }
   ],
   "source": [
    "#Draw \n",
    "fig,ax=plt.subplots()\n",
    "ax.scatter(positive[\"Exam1\"],positive[\"Exam2\"],c='y',s=50,label=\"admitted\")\n",
    "ax.scatter(negative[\"Exam1\"],negative[\"Exam2\"],c='r',s=50,marker=\"x\",label=\"not admitted\")\n",
    "ax.legend()\n",
    "ax.set_xlabel(\"Exam 1 score\")\n",
    "ax.set_ylabel(\"Exam 2 score\")\n",
    "ax.set_title(\"calssifiation\")"
   ]
  },
  {
   "cell_type": "code",
   "execution_count": 107,
   "id": "4f0ab382",
   "metadata": {},
   "outputs": [
    {
     "name": "stdout",
     "output_type": "stream",
     "text": [
      "\n",
      "X.shape =  (100, 3)\n",
      "theta.shape =  (3,)\n",
      "y.shape =  (100, 1)\n"
     ]
    }
   ],
   "source": [
    "# add a ones column - this makes the matrix multiplication work out easier\n",
    "data.insert(0, 'Ones', 1)\n",
    "\n",
    "# set X (training data) and y (target variable)\n",
    "cols = data.shape[1]\n",
    "X = data.iloc[:,0:cols-1]\n",
    "y = data.iloc[:,cols-1:cols]\n",
    "\n",
    "# convert to numpy arrays and initalize the parameter array theta\n",
    "X = np.array(X.values)\n",
    "y = np.array(y.values)\n",
    "theta = np.zeros(3)\n",
    "\n",
    "print()\n",
    "print('X.shape = ' , X.shape)\n",
    "print('theta.shape = ' , theta.shape)\n",
    "print('y.shape = ' , y.shape)\n"
   ]
  },
  {
   "cell_type": "code",
   "execution_count": 108,
   "id": "fe106625",
   "metadata": {},
   "outputs": [
    {
     "name": "stdout",
     "output_type": "stream",
     "text": [
      "cost =  0.6931471805599453\n"
     ]
    }
   ],
   "source": [
    "def sigmoid(z):\n",
    "    return 1/(1+np.exp(-z))\n",
    "def cost(theta, X, y):\n",
    "    theta = np.matrix(theta)\n",
    "    X = np.matrix(X)\n",
    "    y = np.matrix(y)\n",
    "    first = np.multiply(y, np.log(sigmoid(X * theta.T)))\n",
    "    second = np.multiply((1 - y), np.log(1 - sigmoid(X * theta.T)))\n",
    "    return -np.sum(first + second) / (len(X))\n",
    "def gradient(theta, X, y):\n",
    "    theta = np.matrix(theta)\n",
    "    X = np.matrix(X)\n",
    "    y = np.matrix(y)\n",
    "    parameters = int(theta.ravel().shape[1])\n",
    "    grad = np.zeros(parameters)\n",
    "    error = sigmoid(X * theta.T) - y\n",
    "    for i in range(parameters):\n",
    "        term = np.multiply(error, X[:,i])\n",
    "        grad[i] = np.sum(term) / len(X)\n",
    "    return grad\n",
    "\n",
    "thiscost = cost(theta, X, y)\n",
    "print('cost = ' , thiscost)\n",
    "      \n",
    "\n"
   ]
  },
  {
   "cell_type": "code",
   "execution_count": 109,
   "id": "d6c5f69c",
   "metadata": {},
   "outputs": [
    {
     "name": "stdout",
     "output_type": "stream",
     "text": [
      "theta 0 =  -25.161318633098112\n",
      "theta 1 =  0.2062315885628648\n",
      "theta 2 =  0.20147148626677117\n",
      "cost after optimize =  0.20349770158947458\n"
     ]
    }
   ],
   "source": [
    "result = opt.fmin_tnc(func=cost, x0=theta, fprime=gradient, args=(X, y))\n",
    "theta0 = result[0][0]\n",
    "theta1 = result[0][1]\n",
    "theta2 = result[0][2]\n",
    "print(\"theta 0 = \",theta0)\n",
    "print(\"theta 1 = \",theta1)\n",
    "print(\"theta 2 = \",theta2)\n",
    "costafteroptimize = cost(result[0], X, y)\n",
    "print('cost after optimize = ' , costafteroptimize)"
   ]
  },
  {
   "cell_type": "code",
   "execution_count": 110,
   "id": "5eacf554",
   "metadata": {},
   "outputs": [
    {
     "name": "stdout",
     "output_type": "stream",
     "text": [
      "accuracy = 89%\n"
     ]
    }
   ],
   "source": [
    "def predict(theta, X):\n",
    "    probability = sigmoid(X * theta.T)\n",
    "    return [1 if x >= 0.5 else 0 for x in probability]\n",
    "\n",
    "theta_min = np.matrix(result[0])\n",
    "predictions = predict(theta_min, X)\n",
    "correct = [1 if ((a == 1 and b == 1) or (a == 0 and b == 0)) else 0 for (a, b) in zip(predictions, y)]\n",
    "accuracy = (sum(map(int, correct)) % len(correct))\n",
    "print ('accuracy = {0}%'.format(accuracy,2))\n"
   ]
  },
  {
   "cell_type": "code",
   "execution_count": null,
   "id": "bbe7c071",
   "metadata": {},
   "outputs": [],
   "source": []
  },
  {
   "cell_type": "code",
   "execution_count": null,
   "id": "2241bd11",
   "metadata": {},
   "outputs": [],
   "source": []
  }
 ],
 "metadata": {
  "kernelspec": {
   "display_name": "Python 3",
   "language": "python",
   "name": "python3"
  },
  "language_info": {
   "codemirror_mode": {
    "name": "ipython",
    "version": 3
   },
   "file_extension": ".py",
   "mimetype": "text/x-python",
   "name": "python",
   "nbconvert_exporter": "python",
   "pygments_lexer": "ipython3",
   "version": "3.8.8"
  }
 },
 "nbformat": 4,
 "nbformat_minor": 5
}
